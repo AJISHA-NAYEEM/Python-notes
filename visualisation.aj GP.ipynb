{
 "cells": [
  {
   "cell_type": "code",
   "execution_count": null,
   "id": "12244112",
   "metadata": {},
   "outputs": [],
   "source": [
    "Histograms:\n",
    "Histograms are useful for understanding the distribution of a single variable.\n",
    "python\n",
    "Copy code\n",
    "\n",
    "import matplotlib.pyplot as plt\n",
    "\n",
    "# Plot a histogram for a single column\n",
    "plt.hist(df['column_name'], bins=20, edgecolor='k')\n",
    "plt.xlabel('X-axis Label')\n",
    "plt.ylabel('Frequency')\n",
    "plt.title('Histogram of column_name')\n",
    "plt.show()\n"
   ]
  },
  {
   "cell_type": "code",
   "execution_count": null,
   "id": "cf7a0bc6",
   "metadata": {},
   "outputs": [],
   "source": [
    "Box Plots:\n",
    "Box plots are handy for visualizing the distribution of a variable's quartiles and detecting outliers.\n",
    "python\n",
    "Copy code\n",
    "import seaborn as sns\n",
    "\n",
    "# Create a box plot\n",
    "sns.boxplot(x='column_name', data=df)\n",
    "plt.xlabel('X-axis Label')\n",
    "plt.title('Box Plot of column_name')\n",
    "plt.show()"
   ]
  },
  {
   "cell_type": "code",
   "execution_count": null,
   "id": "b69b5474",
   "metadata": {},
   "outputs": [],
   "source": [
    "Scatter Plots:\n",
    "Scatter plots help visualize the relationship between two numerical variables.\n",
    "python\n",
    "Copy code\n",
    "# Create a scatter plot\n",
    "plt.scatter(df['x_column'], df['y_column'])\n",
    "plt.xlabel('X-axis Label')\n",
    "plt.ylabel('Y-axis Label')\n",
    "plt.title('Scatter Plot between x_column and y_column')\n",
    "plt.show()"
   ]
  },
  {
   "cell_type": "code",
   "execution_count": null,
   "id": "c731349f",
   "metadata": {},
   "outputs": [],
   "source": [
    "Pair Plots:\n",
    "Pair plots allow you to visualize pairwise relationships between multiple numerical variables.\n",
    "python\n",
    "Copy code\n",
    "# Create a pair plot for selected columns\n",
    "sns.pairplot(df[['column1', 'column2', 'column3']])\n",
    "plt.show()"
   ]
  },
  {
   "cell_type": "code",
   "execution_count": null,
   "id": "c19b9a48",
   "metadata": {},
   "outputs": [],
   "source": [
    "Heatmaps:\n",
    "Heatmaps are useful for visualizing the correlation matrix between numerical variables.\n",
    "python\n",
    "Copy code\n",
    "# Calculate the correlation matrix\n",
    "correlation_matrix = df.corr()\n",
    "\n",
    "# Create a heatmap\n",
    "sns.heatmap(correlation_matrix, annot=True, cmap='coolwarm', linewidths=0.5)\n",
    "plt.title('Correlation Heatmap')\n",
    "plt.show()"
   ]
  },
  {
   "cell_type": "code",
   "execution_count": null,
   "id": "0867843b",
   "metadata": {},
   "outputs": [],
   "source": [
    "These are just a few examples of data visualization techniques.\n",
    "Depending on your dataset and research questions, you may choose different types of plots\n",
    "and customize them further to gain insights into your data's distribution and relationships.\n",
    "Visualization can help you identify trends, outliers, and patterns in your data, which can inform \n",
    "your data cleaning and analysis processes."
   ]
  },
  {
   "cell_type": "markdown",
   "id": "cd674694",
   "metadata": {},
   "source": [
    "Line Plot (Time Series):\n",
    "\n",
    "Library: Matplotlib, Seaborn\n",
    "Description: Shows data points connected by straight lines, often used for time series data.\n",
    "Example:\n",
    "python\n",
    "Copy code\n",
    "import matplotlib.pyplot as plt\n",
    "\n",
    "x = [1, 2, 3, 4, 5]\n",
    "y = [10, 14, 8, 17, 12]\n",
    "\n",
    "plt.plot(x, y)\n",
    "plt.xlabel('X-axis Label')\n",
    "plt.ylabel('Y-axis Label')\n",
    "plt.title('Line Plot')\n",
    "plt.show()"
   ]
  },
  {
   "cell_type": "code",
   "execution_count": null,
   "id": "007196fb",
   "metadata": {},
   "outputs": [],
   "source": [
    "Bar Chart:\n",
    "\n",
    "Library: Matplotlib, Seaborn\n",
    "Description: Represents data using rectangular bars with lengths proportional to the values they represent.\n",
    "Example:\n",
    "python\n",
    "Copy code\n",
    "import matplotlib.pyplot as plt\n",
    "\n",
    "categories = ['Category A', 'Category B', 'Category C']\n",
    "values = [25, 40, 30]\n",
    "\n",
    "plt.bar(categories, values)\n",
    "plt.xlabel('Categories')\n",
    "plt.ylabel('Values')\n",
    "plt.title('Bar Chart')\n",
    "plt.show()"
   ]
  },
  {
   "cell_type": "code",
   "execution_count": null,
   "id": "2d3fbc48",
   "metadata": {},
   "outputs": [],
   "source": [
    "Histogram:\n",
    "\n",
    "Library: Matplotlib, Seaborn\n",
    "Description: Visualizes the distribution of a dataset by grouping data into bins and displaying the frequency or density.\n",
    "Example:\n",
    "python\n",
    "Copy code\n",
    "import matplotlib.pyplot as plt\n",
    "import numpy as np\n",
    "\n",
    "data = np.random.randn(1000)\n",
    "\n",
    "plt.hist(data, bins=20, edgecolor='k')\n",
    "plt.xlabel('Values')\n",
    "plt.ylabel('Frequency')\n",
    "plt.title('Histogram')\n",
    "plt.show()\n",
    "\n",
    "\n",
    "\n",
    "\n",
    "\n",
    "\n",
    "\n"
   ]
  },
  {
   "cell_type": "code",
   "execution_count": null,
   "id": "2e80d8a8",
   "metadata": {},
   "outputs": [],
   "source": [
    "Scatter Plot:\n",
    "\n",
    "Library: Matplotlib, Seaborn\n",
    "Description: Displays individual data points as dots on a two-dimensional plane, useful for visualizing relationships between two variables.\n",
    "Example:\n",
    "python\n",
    "Copy code\n",
    "import matplotlib.pyplot as plt\n",
    "import numpy as np\n",
    "\n",
    "x = np.random.rand(50)\n",
    "y = 2 * x + 1 + np.random.randn(50)\n",
    "\n",
    "plt.scatter(x, y)\n",
    "plt.xlabel('X-axis')\n",
    "plt.ylabel('Y-axis')\n",
    "plt.title('Scatter Plot')\n",
    "plt.show()"
   ]
  },
  {
   "cell_type": "code",
   "execution_count": null,
   "id": "60370dba",
   "metadata": {},
   "outputs": [],
   "source": [
    "Pie Chart:\n",
    "\n",
    "Library: Matplotlib\n",
    "Description: Represents data as a circle divided into slices, with each slice's size proportional to the data it represents.\n",
    "Example:\n",
    "python\n",
    "Copy code\n",
    "import matplotlib.pyplot as plt\n",
    "\n",
    "labels = ['Category A', 'Category B', 'Category C']\n",
    "sizes = [25, 40, 30]\n",
    "\n",
    "plt.pie(sizes, labels=labels, autopct='%1.1f%%')\n",
    "plt.title('Pie Chart')\n",
    "plt.show()"
   ]
  },
  {
   "cell_type": "code",
   "execution_count": null,
   "id": "e899cb09",
   "metadata": {},
   "outputs": [],
   "source": [
    "Box Plot:\n",
    "\n",
    "Library: Matplotlib, Seaborn\n",
    "Description: Visualizes the distribution of a dataset using quartiles and helps identify outliers.\n",
    "Example:\n",
    "python\n",
    "Copy code\n",
    "import seaborn as sns\n",
    "import matplotlib.pyplot as plt\n",
    "\n",
    "data = sns.load_dataset(\"iris\")\n",
    "\n",
    "sns.boxplot(x=\"species\", y=\"sepal_length\", data=data)\n",
    "plt.xlabel('Species')\n",
    "plt.ylabel('Sepal Length')\n",
    "plt.title('Box Plot')\n",
    "plt.show()\n",
    "These are just a few examples of the types of graphs you can create in Python. Depending on your data and analysis goals, you can explore various other types of visualizations, including heatmaps, violin plots, area charts, and more. The choice of visualization depends on the nature of your data and the insights you want to convey.\n"
   ]
  }
 ],
 "metadata": {
  "kernelspec": {
   "display_name": "Python 3 (ipykernel)",
   "language": "python",
   "name": "python3"
  },
  "language_info": {
   "codemirror_mode": {
    "name": "ipython",
    "version": 3
   },
   "file_extension": ".py",
   "mimetype": "text/x-python",
   "name": "python",
   "nbconvert_exporter": "python",
   "pygments_lexer": "ipython3",
   "version": "3.10.9"
  }
 },
 "nbformat": 4,
 "nbformat_minor": 5
}
