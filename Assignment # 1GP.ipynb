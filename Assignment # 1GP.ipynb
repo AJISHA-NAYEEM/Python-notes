{
 "cells": [
  {
   "cell_type": "markdown",
   "metadata": {},
   "source": [
    "# Assignment 1"
   ]
  },
  {
   "cell_type": "markdown",
   "metadata": {},
   "source": [
    "**Note:** You need to run each cell where we have provided you some pre-defined variables for tasks"
   ]
  },
  {
   "cell_type": "markdown",
   "metadata": {},
   "source": [
    "### Task 1"
   ]
  },
  {
   "cell_type": "code",
   "execution_count": 39,
   "metadata": {},
   "outputs": [],
   "source": [
    "#write code here\n",
    "list1=['w','o','r','d']\n",
    "my_list=[]"
   ]
  },
  {
   "cell_type": "markdown",
   "metadata": {},
   "source": [
    "Use **for** loop to create **list** like this: <mark>['w','o','r','d']</mark> and save it in <mark>my_list</mark>\n",
    "\n",
    "Hint: use append method"
   ]
  },
  {
   "cell_type": "code",
   "execution_count": 40,
   "metadata": {},
   "outputs": [],
   "source": [
    "#write code here\n",
    "for elements in list1:\n",
    "    my_list.append(elements)"
   ]
  },
  {
   "cell_type": "code",
   "execution_count": 41,
   "metadata": {},
   "outputs": [
    {
     "name": "stdout",
     "output_type": "stream",
     "text": [
      "['w', 'o', 'r', 'd']\n"
     ]
    }
   ],
   "source": [
    "# print my_list\n",
    "print(my_list)"
   ]
  },
  {
   "cell_type": "markdown",
   "metadata": {},
   "source": [
    "### Task 2"
   ]
  },
  {
   "cell_type": "markdown",
   "metadata": {},
   "source": [
    "\n",
    "\n",
    "\n",
    "To add link\n",
    "\n",
    "link [Here]( https://medium.com/ibm-data-science-experience/markdown-for-jupyter-notebooks-cheatsheet-386c05aeebed)"
   ]
  },
  {
   "cell_type": "markdown",
   "metadata": {},
   "source": [
    "### Task 3"
   ]
  },
  {
   "cell_type": "markdown",
   "metadata": {},
   "source": [
    "Find maximum and minimum value from given list <mark>my_list1</mark>"
   ]
  },
  {
   "cell_type": "markdown",
   "metadata": {},
   "source": [
    "Hint: Check control flow notebook"
   ]
  },
  {
   "cell_type": "code",
   "execution_count": 24,
   "metadata": {},
   "outputs": [],
   "source": [
    "my_list1=[23,3456,67,6,34,87,1224,7689,22,675,809,323,779]"
   ]
  },
  {
   "cell_type": "code",
   "execution_count": 26,
   "metadata": {
    "scrolled": true
   },
   "outputs": [],
   "source": [
    "# write code here\n",
    "max_value=max(my_list1)\n",
    "min_value=min(my_list1)"
   ]
  },
  {
   "cell_type": "code",
   "execution_count": 27,
   "metadata": {},
   "outputs": [
    {
     "name": "stdout",
     "output_type": "stream",
     "text": [
      "7689\n",
      "6\n"
     ]
    }
   ],
   "source": [
    "# write code here\n",
    "print(max_value)\n",
    "print(min_value)"
   ]
  },
  {
   "cell_type": "markdown",
   "metadata": {},
   "source": [
    "### Task 4"
   ]
  },
  {
   "cell_type": "markdown",
   "metadata": {},
   "source": [
    "Write code to check if input number is greater than, less than or equal to 50. Loop should be continuous and command of **exit** should end the infinite while loop"
   ]
  },
  {
   "cell_type": "markdown",
   "metadata": {},
   "source": [
    "Hint: you need to used input() fucntion and cast the value to 'int' for conditions but don't cast when 'exit'."
   ]
  },
  {
   "cell_type": "code",
   "execution_count": 32,
   "metadata": {},
   "outputs": [
    {
     "name": "stdout",
     "output_type": "stream",
     "text": [
      "Enter a your value: 20\n",
      "x is less than 50\n",
      "Enter a your value: 57\n",
      "x is greater than 50\n",
      "Enter a your value: 50\n",
      "x is equal to 50\n",
      "Enter a your value: 097\n",
      "x is greater than 50\n",
      "Enter a your value: exit\n",
      "EXIT\n"
     ]
    }
   ],
   "source": [
    "# write code here\n",
    "while True:\n",
    "    x=input(\"Enter a your value: \")\n",
    "    if x.lower()=='exit':\n",
    "        print(\"EXIT\")\n",
    "        break\n",
    "    x=int(x)      \n",
    "    if x<50 :\n",
    "        print(\"x is less than 50\")\n",
    "        continue\n",
    "    elif x>50:\n",
    "        print(\"x is greater than 50\")\n",
    "        continue\n",
    "    elif x==50:\n",
    "        print(\"x is equal to 50\")\n",
    "        continue"
   ]
  },
  {
   "cell_type": "markdown",
   "metadata": {},
   "source": [
    "### Task 5"
   ]
  },
  {
   "cell_type": "markdown",
   "metadata": {},
   "source": [
    "Create dictionary named <mark>europs</mark> from provided lists: <mark>countries</mark> and <mark>capitals</mark> using **for** loop"
   ]
  },
  {
   "cell_type": "markdown",
   "metadata": {},
   "source": [
    "Hint: using enumerate() function with for loop"
   ]
  },
  {
   "cell_type": "code",
   "execution_count": 42,
   "metadata": {},
   "outputs": [],
   "source": [
    "# Definition of countries and capital\n",
    "countries = ['spain', 'france', 'germany', 'norway']\n",
    "capitals = ['madrid', 'paris', 'berlin', 'oslo']"
   ]
  },
  {
   "cell_type": "code",
   "execution_count": 43,
   "metadata": {},
   "outputs": [],
   "source": [
    "# write code here\n",
    "europe={}\n",
    "for i in range(len(countries)):\n",
    "    europe[capitals[i]]=countries[i]\n",
    "  "
   ]
  },
  {
   "cell_type": "code",
   "execution_count": 30,
   "metadata": {},
   "outputs": [
    {
     "data": {
      "text/plain": [
       "{'madrid': 'spain', 'paris': 'france', 'berlin': 'germany', 'oslo': 'norway'}"
      ]
     },
     "execution_count": 30,
     "metadata": {},
     "output_type": "execute_result"
    }
   ],
   "source": [
    "# print europe\n",
    "europe"
   ]
  },
  {
   "cell_type": "markdown",
   "metadata": {},
   "source": [
    "### Task 6"
   ]
  },
  {
   "cell_type": "markdown",
   "metadata": {},
   "source": [
    "[link_here](https://cdn.pixabay.com/animation/2022/11/10/05/34/05-34-46-401_512.gif)"
   ]
  },
  {
   "cell_type": "markdown",
   "metadata": {},
   "source": [
    "### Task 7"
   ]
  },
  {
   "cell_type": "markdown",
   "metadata": {},
   "source": [
    "Convert object types of values in below mentioned defined dictionary. Check comments for required task."
   ]
  },
  {
   "cell_type": "markdown",
   "metadata": {},
   "source": [
    "Hint: Expected final out of dictionary should be:\n",
    "```python\n",
    "{'animal':['Dog','Cat'],'age':[4.0,5.0],'bark':[1,0],'badge_num':[234,896]}\n",
    "```"
   ]
  },
  {
   "cell_type": "code",
   "execution_count": 2,
   "metadata": {},
   "outputs": [],
   "source": [
    "my_dict={'animal':['Dog','Cat'],'age':[4,5],'bark':[True,False],'badge_num':['234','896']}"
   ]
  },
  {
   "cell_type": "code",
   "execution_count": 3,
   "metadata": {},
   "outputs": [],
   "source": [
    "# cast 'age' to float\n",
    "my_dict[\"age\"][0]=float(my_dict[\"age\"][0])\n",
    "my_dict[\"age\"][1]=float(my_dict[\"age\"][1])"
   ]
  },
  {
   "cell_type": "code",
   "execution_count": 4,
   "metadata": {},
   "outputs": [],
   "source": [
    "# cast 'bark' to int\n",
    "my_dict[\"bark\"][0]=int(my_dict[\"bark\"][0])\n",
    "my_dict[\"bark\"][1]=int(my_dict[\"bark\"][1])"
   ]
  },
  {
   "cell_type": "code",
   "execution_count": 5,
   "metadata": {},
   "outputs": [],
   "source": [
    "# cast 'badge_num' to int\n",
    "my_dict[\"badge_num\"][0]=int(my_dict[\"badge_num\"][0])\n",
    "my_dict[\"badge_num\"][1]=int(my_dict[\"badge_num\"][1])"
   ]
  },
  {
   "cell_type": "code",
   "execution_count": 6,
   "metadata": {},
   "outputs": [
    {
     "name": "stdout",
     "output_type": "stream",
     "text": [
      "{'animal': ['Dog', 'Cat'], 'age': [4.0, 5.0], 'bark': [1, 0], 'badge_num': [234, 896]}\n"
     ]
    }
   ],
   "source": [
    "# print my_dict\n",
    "print(my_dict)"
   ]
  },
  {
   "cell_type": "markdown",
   "metadata": {},
   "source": [
    "### Task 8"
   ]
  },
  {
   "cell_type": "markdown",
   "metadata": {},
   "source": [
    "###  mathematical equations in Jupyter markdown.\n",
    " \n",
    " This is pythogorus theore\n",
    "\n"
   ]
  },
  {
   "cell_type": "markdown",
   "metadata": {},
   "source": [
    "### Task 9"
   ]
  },
  {
   "cell_type": "markdown",
   "metadata": {},
   "source": [
    "\n",
    "### write markdown code here and convert this cell to markdown before running\n"
   ]
  },
  {
   "cell_type": "markdown",
   "metadata": {},
   "source": [
    "```print(\"welcome to jupter notebook\")```"
   ]
  },
  {
   "cell_type": "markdown",
   "metadata": {},
   "source": [
    "### write markdown code here and convert this cell to markdown before running\n",
    "\n"
   ]
  },
  {
   "cell_type": "markdown",
   "metadata": {},
   "source": [
    "### Task 10"
   ]
  },
  {
   "cell_type": "markdown",
   "metadata": {},
   "source": [
    "Create a method that that takes a list of numbers as input and return power of 4 of each value in the list     \n",
    "E.g List = [2,3,5] and output should be like [16,81,625]"
   ]
  },
  {
   "cell_type": "code",
   "execution_count": 57,
   "metadata": {},
   "outputs": [],
   "source": [
    "#write code here\n",
    "def power4(my_list):\n",
    "    return[number**4 for number in my_list]\n"
   ]
  },
  {
   "cell_type": "code",
   "execution_count": 58,
   "metadata": {},
   "outputs": [
    {
     "name": "stdout",
     "output_type": "stream",
     "text": [
      "enter the values:1\n",
      "[1]\n",
      "enter the values:2\n",
      "[1, 16]\n",
      "enter the values:3\n",
      "[1, 16, 81]\n"
     ]
    }
   ],
   "source": [
    "#write code here\n",
    "list1=[]\n",
    "for i in range(3):\n",
    "  a=int(input(\"enter the values:\"))\n",
    "  list1.append(a)\n",
    "  my_list=list1\n",
    "  print(power4(my_list))"
   ]
  },
  {
   "cell_type": "code",
   "execution_count": 59,
   "metadata": {},
   "outputs": [
    {
     "name": "stdout",
     "output_type": "stream",
     "text": [
      "[1, 2, 3]\n"
     ]
    }
   ],
   "source": [
    "#write code here\n",
    "print(my_list)"
   ]
  },
  {
   "cell_type": "markdown",
   "metadata": {},
   "source": [
    "Do same this above task through mapping and lambda instead of function"
   ]
  },
  {
   "cell_type": "code",
   "execution_count": 61,
   "metadata": {},
   "outputs": [
    {
     "name": "stdout",
     "output_type": "stream",
     "text": [
      "[1, 16, 81]\n"
     ]
    }
   ],
   "source": [
    "my_list\n",
    "squares=list(map(lambda x:pow(x,4),my_list))\n",
    "print(squares)"
   ]
  },
  {
   "cell_type": "markdown",
   "metadata": {},
   "source": [
    "<center>Good Luck !</center> "
   ]
  }
 ],
 "metadata": {
  "kernelspec": {
   "display_name": "Python 3 (ipykernel)",
   "language": "python",
   "name": "python3"
  },
  "language_info": {
   "codemirror_mode": {
    "name": "ipython",
    "version": 3
   },
   "file_extension": ".py",
   "mimetype": "text/x-python",
   "name": "python",
   "nbconvert_exporter": "python",
   "pygments_lexer": "ipython3",
   "version": "3.10.9"
  }
 },
 "nbformat": 4,
 "nbformat_minor": 2
}
